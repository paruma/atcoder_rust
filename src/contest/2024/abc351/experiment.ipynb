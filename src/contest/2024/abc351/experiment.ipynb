{
 "cells": [
  {
   "cell_type": "code",
   "execution_count": 1,
   "id": "d2944182-7791-4184-a4a4-53c2f5214700",
   "metadata": {},
   "outputs": [],
   "source": [
    "# 愚直実装\n",
    "def solve_naive(n, m, k):\n",
    "    return ((1 << n) % ((1 << m) - (1 << k))) % 10\n",
    "\n",
    "# 愚直実装 (mod 10 しないバージョン)\n",
    "def solve1_naive(n, m, k):\n",
    "    return ((1 << n) % ((1 << m) - (1 << k)))\n",
    "\n",
    "def solve1(n, m, k):\n",
    "    return 2 ** ((n-k)%(m-k) + k)"
   ]
  },
  {
   "cell_type": "code",
   "execution_count": 2,
   "id": "9f88b8ca-ba68-4fd3-9249-d130f2615c52",
   "metadata": {},
   "outputs": [
    {
     "data": {
      "text/plain": [
       "32"
      ]
     },
     "execution_count": 2,
     "metadata": {},
     "output_type": "execute_result"
    }
   ],
   "source": [
    "solve1_naive(9,6,2)"
   ]
  },
  {
   "cell_type": "code",
   "execution_count": 3,
   "id": "0fe99deb",
   "metadata": {},
   "outputs": [
    {
     "data": {
      "text/plain": [
       "32"
      ]
     },
     "execution_count": 3,
     "metadata": {},
     "output_type": "execute_result"
    }
   ],
   "source": [
    "solve1(9, 6, 2)"
   ]
  },
  {
   "cell_type": "code",
   "execution_count": 4,
   "id": "bfa120c8",
   "metadata": {},
   "outputs": [
    {
     "data": {
      "text/plain": [
       "16"
      ]
     },
     "execution_count": 4,
     "metadata": {},
     "output_type": "execute_result"
    }
   ],
   "source": [
    "2**4\n"
   ]
  }
 ],
 "metadata": {
  "kernelspec": {
   "display_name": "Python 3 (ipykernel)",
   "language": "python",
   "name": "python3"
  },
  "language_info": {
   "codemirror_mode": {
    "name": "ipython",
    "version": 3
   },
   "file_extension": ".py",
   "mimetype": "text/x-python",
   "name": "python",
   "nbconvert_exporter": "python",
   "pygments_lexer": "ipython3",
   "version": "3.12.2"
  }
 },
 "nbformat": 4,
 "nbformat_minor": 5
}
