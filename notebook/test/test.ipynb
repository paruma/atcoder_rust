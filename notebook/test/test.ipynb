{
 "cells": [
  {
   "cell_type": "code",
   "execution_count": 7,
   "source": [
    "let x = 0;"
   ],
   "outputs": [],
   "metadata": {}
  },
  {
   "cell_type": "code",
   "execution_count": null,
   "source": [],
   "outputs": [],
   "metadata": {}
  }
 ],
 "metadata": {
  "orig_nbformat": 4,
  "language_info": {
   "name": "Rust",
   "version": "",
   "mimetype": "text/rust",
   "file_extension": ".rs",
   "pygment_lexer": "rust",
   "codemirror_mode": "rust"
  },
  "kernelspec": {
   "name": "rust",
   "display_name": "Rust",
   "language": "rust"
  }
 },
 "nbformat": 4,
 "nbformat_minor": 2
}