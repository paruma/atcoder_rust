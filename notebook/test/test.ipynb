{
 "cells": [
  {
   "cell_type": "code",
   "execution_count": 3,
   "source": [
    "let x = 0;"
   ],
   "outputs": [],
   "metadata": {}
  },
  {
   "cell_type": "code",
   "execution_count": 4,
   "source": [
    "ge"
   ],
   "outputs": [
    {
     "output_type": "error",
     "ename": "Error",
     "evalue": "cannot find value `ge` in this scope",
     "traceback": [
      "ge",
      "^^ not found in this scope",
      "cannot find value `ge` in this scope"
     ]
    }
   ],
   "metadata": {}
  },
  {
   "cell_type": "code",
   "execution_count": 6,
   "source": [
    "// ちゃんと上のエラーした部分は無視されるのね。\n",
    "println!(\"hoge\");"
   ],
   "outputs": [
    {
     "output_type": "stream",
     "name": "stdout",
     "text": [
      "hoge\n"
     ]
    }
   ],
   "metadata": {}
  },
  {
   "cell_type": "code",
   "execution_count": null,
   "source": [],
   "outputs": [],
   "metadata": {}
  }
 ],
 "metadata": {
  "orig_nbformat": 4,
  "language_info": {
   "name": "Rust",
   "version": "",
   "mimetype": "text/rust",
   "file_extension": ".rs",
   "pygment_lexer": "rust",
   "codemirror_mode": "rust"
  },
  "kernelspec": {
   "name": "rust",
   "display_name": "Rust",
   "language": "rust"
  }
 },
 "nbformat": 4,
 "nbformat_minor": 2
}