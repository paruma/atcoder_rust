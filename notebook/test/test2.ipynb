{
 "cells": [
  {
   "cell_type": "code",
   "execution_count": 2,
   "source": [
    "let x = 0;"
   ],
   "outputs": [],
   "metadata": {}
  },
  {
   "cell_type": "code",
   "execution_count": 3,
   "source": [
    "mod maina;"
   ],
   "outputs": [
    {
     "output_type": "error",
     "ename": "Error",
     "evalue": "file not found for module `maina`",
     "traceback": [
      "mod maina;",
      "^^^^^^^^^^ ",
      "file not found for module `maina`",
      "help: to create the module `maina`, create file \"src/maina.rs\""
     ]
    }
   ],
   "metadata": {}
  },
  {
   "cell_type": "code",
   "execution_count": 5,
   "source": [
    "use std::env;\n",
    "use std::path::Path;\n",
    "let path = env::current_dir()?;\n",
    "println!(\"starting dir: {}\", path.display());"
   ],
   "outputs": [
    {
     "output_type": "stream",
     "name": "stdout",
     "text": [
      "starting dir: /Users/paruma/Documents/document/source/kyou_pro/atcoder/rust/genocon2021/src\n"
     ]
    }
   ],
   "metadata": {}
  },
  {
   "cell_type": "code",
   "execution_count": 7,
   "source": [
    "input!{\n",
    "    hoge: i32\n",
    "}"
   ],
   "outputs": [
    {
     "output_type": "error",
     "ename": "Error",
     "evalue": "cannot find macro `input` in this scope",
     "traceback": [
      "input!{",
      "^^^^^ ",
      "cannot find macro `input` in this scope"
     ]
    }
   ],
   "metadata": {}
  },
  {
   "cell_type": "code",
   "execution_count": 9,
   "source": [
    "msg"
   ],
   "outputs": [
    {
     "output_type": "error",
     "ename": "Error",
     "evalue": "cannot find value `msg` in this scope",
     "traceback": [
      "msg",
      "^^^ not found in this scope",
      "cannot find value `msg` in this scope"
     ]
    }
   ],
   "metadata": {}
  },
  {
   "cell_type": "code",
   "execution_count": null,
   "source": [],
   "outputs": [],
   "metadata": {}
  }
 ],
 "metadata": {
  "orig_nbformat": 4,
  "language_info": {
   "name": "Rust",
   "version": "",
   "mimetype": "text/rust",
   "file_extension": ".rs",
   "pygment_lexer": "rust",
   "codemirror_mode": "rust"
  },
  "kernelspec": {
   "name": "rust",
   "display_name": "Rust",
   "language": "rust"
  }
 },
 "nbformat": 4,
 "nbformat_minor": 2
}